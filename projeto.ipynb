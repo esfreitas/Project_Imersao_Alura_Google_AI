{
  "cells": [
    {
      "cell_type": "markdown",
      "metadata": {
        "id": "M87UFJ0jWVtn"
      },
      "source": [
        "Instalando SDK do google"
      ]
    },
    {
      "cell_type": "code",
      "execution_count": 1,
      "metadata": {
        "id": "l-ck0A6nVfrP"
      },
      "outputs": [],
      "source": [
        "!pip install -q -U google-generativeai"
      ]
    },
    {
      "cell_type": "markdown",
      "metadata": {
        "id": "cPQNGNmvWRaO"
      },
      "source": []
    },
    {
      "cell_type": "code",
      "execution_count": 2,
      "metadata": {
        "id": "x9kFViwxWqHg"
      },
      "outputs": [],
      "source": [
        "import google.generativeai as genai\n",
        "\n",
        "GOOGLE_API_KEY=\"###\"\n",
        "genai.configure(api_key=GOOGLE_API_KEY)\n"
      ]
    },
    {
      "cell_type": "markdown",
      "metadata": {
        "id": "A-4qhyJKXK8N"
      },
      "source": [
        "Listar os modelos disponíveis"
      ]
    },
    {
      "cell_type": "code",
      "execution_count": 3,
      "metadata": {
        "id": "kPdHkP4NXKN_"
      },
      "outputs": [
        {
          "name": "stdout",
          "output_type": "stream",
          "text": [
            "models/gemini-1.0-pro\n",
            "models/gemini-1.0-pro-001\n",
            "models/gemini-1.0-pro-latest\n",
            "models/gemini-1.0-pro-vision-latest\n",
            "models/gemini-1.5-pro-latest\n",
            "models/gemini-pro\n",
            "models/gemini-pro-vision\n"
          ]
        }
      ],
      "source": [
        "for m in genai.list_models():\n",
        "  if 'generateContent' in m.supported_generation_methods:\n",
        "    print(m.name)"
      ]
    },
    {
      "cell_type": "markdown",
      "metadata": {
        "id": "6z7_VoSCZUQQ"
      },
      "source": [
        "Configurando o comportamento"
      ]
    },
    {
      "cell_type": "code",
      "execution_count": 5,
      "metadata": {
        "id": "Gizm9y3EYFZs"
      },
      "outputs": [],
      "source": [
        "generation_config = {\n",
        "    \"candidate_count\":1,\n",
        "    \"temperature\":0.5,\n",
        "}"
      ]
    },
    {
      "cell_type": "markdown",
      "metadata": {
        "id": "YZ06hzNUZY_2"
      },
      "source": [
        "Configurando segurança (filtro) do conteúdo"
      ]
    },
    {
      "cell_type": "code",
      "execution_count": 6,
      "metadata": {
        "id": "OdpBi0UVYXc3"
      },
      "outputs": [],
      "source": [
        "safety_settings = {\n",
        "    \"HARASSMENT\":\"BLOCK_NONE\",\n",
        "    \"HATE\":\"BLOCK_NONE\",\n",
        "    \"SEXUAL\":\"BLOCK_NONE\",\n",
        "    \"DANGEROUS\":\"BLOCK_NONE\",\n",
        "}"
      ]
    },
    {
      "cell_type": "markdown",
      "metadata": {
        "id": "3ESKvIDSZhg1"
      },
      "source": [
        "Inicializando o modelo"
      ]
    },
    {
      "cell_type": "code",
      "execution_count": 7,
      "metadata": {
        "id": "Yy6BU2t9YbNw"
      },
      "outputs": [],
      "source": [
        "model = genai.GenerativeModel(model_name=\"gemini-1.0-pro\",\n",
        "                              generation_config=generation_config,\n",
        "                              safety_settings=safety_settings)"
      ]
    },
    {
      "cell_type": "code",
      "execution_count": 8,
      "metadata": {
        "id": "LJFDUbLDbpKG"
      },
      "outputs": [
        {
          "name": "stdout",
          "output_type": "stream",
          "text": [
            "**Imersão Alura em Inteligência Artificial (IA) do Google**\n",
            "\n",
            "**Visão Geral**\n",
            "\n",
            "A Imersão Alura em IA do Google é um programa abrangente que oferece uma base sólida em IA e aprendizado de máquina (ML). Ele é projetado para profissionais que buscam aprimorar suas habilidades em IA e impulsionar suas carreiras.\n",
            "\n",
            "**Conteúdo do Curso**\n",
            "\n",
            "O curso abrange os seguintes tópicos:\n",
            "\n",
            "* **Introdução à IA e ML:** Fundamentos, tipos de IA e aplicações\n",
            "* **Aprendizado Supervisionado:** Regressão, classificação e árvores de decisão\n",
            "* **Aprendizado Não Supervisionado:** Agrupamento, redução de dimensionalidade e detecção de anomalias\n",
            "* **Aprendizado por Reforço:** Conceitos, algoritmos e aplicações\n",
            "* **Processamento de Linguagem Natural (PNL):** Técnicas de processamento de texto, análise de sentimento e geração de linguagem\n",
            "* **Visão Computacional:** Reconhecimento de imagem, processamento de vídeo e aprendizado profundo\n",
            "* **Ética e Implicações Sociais da IA:** Responsabilidade, viés e impacto na sociedade\n",
            "\n",
            "**Recursos**\n",
            "\n",
            "* **Instrutores Especializados:** Especialistas do Google e da Alura com vasta experiência em IA\n",
            "* **Material Interativo:** Tutoriais em vídeo, exercícios práticos e projetos\n",
            "* **Comunidade Online:** Fórum de discussão e suporte entre pares\n",
            "* **Certificado de Conclusão:** Reconhecimento de conclusão do programa\n",
            "\n",
            "**Benefícios**\n",
            "\n",
            "* **Base Sólida em IA:** Adquira uma compreensão abrangente dos conceitos e técnicas fundamentais de IA\n",
            "* **Habilidades Práticas:** Desenvolva habilidades práticas em aprendizado de máquina e outras áreas de IA\n",
            "* **Vantagem Competitiva:** Aprimore sua carreira com habilidades altamente procuradas em IA\n",
            "* **Certificação Reconhecida:** Obtenha um certificado de conclusão reconhecido pelo Google e pela Alura\n",
            "\n",
            "**Público-alvo**\n",
            "\n",
            "* Profissionais de TI e dados\n",
            "* Desenvolvedores de software\n",
            "* Analistas de negócios\n",
            "* Estudantes e recém-formados em áreas relacionadas à IA\n",
            "\n",
            "**Como se Inscrever**\n",
            "\n",
            "Visite o site da Alura para obter mais informações e se inscrever no programa.\n"
          ]
        }
      ],
      "source": [
        "response = model.generate_content(\"Imersão Alura - Google - IA\")\n",
        "print(response.text)"
      ]
    },
    {
      "cell_type": "code",
      "execution_count": 9,
      "metadata": {
        "id": "Knj0Ob3Sbrmi"
      },
      "outputs": [],
      "source": [
        "chat = model.start_chat(history=[])"
      ]
    },
    {
      "cell_type": "code",
      "execution_count": 10,
      "metadata": {
        "colab": {
          "base_uri": "https://localhost:8080/",
          "height": 373
        },
        "id": "pF-xRcJYcdXx",
        "outputId": "69b9dae4-8fb8-4185-a602-a265a6e867be"
      },
      "outputs": [
        {
          "name": "stdout",
          "output_type": "stream",
          "text": [
            "Resposta:  **Goku**\n",
            "\n",
            "**Personal Information:**\n",
            "\n",
            "* **Name:** Son Goku (Kakarot)\n",
            "* **Age:** 43 (as of Dragon Ball Super)\n",
            "* **Height:** 5'9\" (175 cm)\n",
            "* **Weight:** 137 lbs (62 kg)\n",
            "* **Race:** Saiyan\n",
            "* **Birthplace:** Planet Vegeta\n",
            "* **Current Residence:** Earth\n",
            "\n",
            "**Appearance:**\n",
            "\n",
            "* Black spiky hair\n",
            "* Blue eyes\n",
            "* Orange gi with blue undershirt and belt\n",
            "* Red wristbands and boots\n",
            "\n",
            "**Personality:**\n",
            "\n",
            "* Kind-hearted and compassionate\n",
            "* Loves fighting and challenges\n",
            "* Loyal and protective of his friends and family\n",
            "* Naive and sometimes reckless\n",
            "\n",
            "**Abilities:**\n",
            "\n",
            "* **Superhuman Strength:** Immense physical strength\n",
            "* **Superhuman Speed:** Can move at incredible speeds\n",
            "* **Flight:** Ability to fly\n",
            "* **Ki Blast:** Energy blasts used for offense and defense\n",
            "* **Kamehameha:** Signature energy wave attack\n",
            "* **Instant Transmission:** Teleportation technique\n",
            "* **Super Saiyan:** Transformation that enhances strength, speed, and energy levels\n",
            "* **Super Saiyan God:** Divine transformation with red hair and aura\n",
            "* **Super Saiyan Blue:** Transformation beyond Super Saiyan God with blue hair and aura\n",
            "* **Ultra Instinct:** Advanced state of combat where movements are instinctual\n",
            "\n",
            "**Techniques:**\n",
            "\n",
            "* **Kaio-ken:** Multiplies Goku's power but drains his stamina\n",
            "* **Spirit Bomb:** Massive energy ball gathered from living beings\n",
            "* **Solar Flare:** Blinding light attack\n",
            "* **Destructo Disc:** Disc-shaped energy blade\n",
            "* **Dragon Fist:** Powerful punching technique\n",
            "\n",
            "**History:**\n",
            "\n",
            "* Born on Planet Vegeta as Kakarot, a low-level Saiyan warrior\n",
            "* Sent to Earth as a baby to conquer the planet\n",
            "* Raised by Grandpa Gohan, who taught him kindness and compassion\n",
            "* Became the Earth's protector and fought against numerous threats\n",
            "* Trained under Master Roshi, King Kai, and Whis\n",
            "* Married Chi-Chi and had two sons, Gohan and Goten\n",
            "\n",
            "**Notable Achievements:**\n",
            "\n",
            "* Defeated Frieza, Cell, Majin Buu, and other powerful villains\n",
            "* Saved the Earth and other planets from destruction\n",
            "* Became the strongest warrior in the universe (as of Dragon Ball Super) \n",
            "\n"
          ]
        }
      ],
      "source": [
        "prompt = input(\"Escolha o sabor do seu picolé: \")\n",
        "\n",
        "while prompt != \"fim\":\n",
        "  response = chat.send_message(prompt)\n",
        "  print(\"Resposta: \", response.text, \"\\n\")\n",
        "  prompt = input(\"Esperando prompt: \")\n"
      ]
    },
    {
      "cell_type": "code",
      "execution_count": 11,
      "metadata": {
        "colab": {
          "base_uri": "https://localhost:8080/"
        },
        "id": "ysCR9WkagZ3X",
        "outputId": "9bbd7df0-4756-43d0-ef81-108f970f5f39"
      },
      "outputs": [
        {
          "data": {
            "text/markdown": [
              ">  * *user * *: goku"
            ],
            "text/plain": [
              "<IPython.core.display.Markdown object>"
            ]
          },
          "metadata": {},
          "output_type": "display_data"
        },
        {
          "data": {
            "text/markdown": [
              ">  * *model * *:  * *Goku * *\n",
              "> \n",
              ">  * *Personal Information: * *\n",
              "> \n",
              ">  *  * *Name: * * Son Goku (Kakarot)\n",
              ">  *  * *Age: * * 43 (as of Dragon Ball Super)\n",
              ">  *  * *Height: * * 5'9\" (175 cm)\n",
              ">  *  * *Weight: * * 137 lbs (62 kg)\n",
              ">  *  * *Race: * * Saiyan\n",
              ">  *  * *Birthplace: * * Planet Vegeta\n",
              ">  *  * *Current Residence: * * Earth\n",
              "> \n",
              ">  * *Appearance: * *\n",
              "> \n",
              ">  * Black spiky hair\n",
              ">  * Blue eyes\n",
              ">  * Orange gi with blue undershirt and belt\n",
              ">  * Red wristbands and boots\n",
              "> \n",
              ">  * *Personality: * *\n",
              "> \n",
              ">  * Kind-hearted and compassionate\n",
              ">  * Loves fighting and challenges\n",
              ">  * Loyal and protective of his friends and family\n",
              ">  * Naive and sometimes reckless\n",
              "> \n",
              ">  * *Abilities: * *\n",
              "> \n",
              ">  *  * *Superhuman Strength: * * Immense physical strength\n",
              ">  *  * *Superhuman Speed: * * Can move at incredible speeds\n",
              ">  *  * *Flight: * * Ability to fly\n",
              ">  *  * *Ki Blast: * * Energy blasts used for offense and defense\n",
              ">  *  * *Kamehameha: * * Signature energy wave attack\n",
              ">  *  * *Instant Transmission: * * Teleportation technique\n",
              ">  *  * *Super Saiyan: * * Transformation that enhances strength, speed, and energy levels\n",
              ">  *  * *Super Saiyan God: * * Divine transformation with red hair and aura\n",
              ">  *  * *Super Saiyan Blue: * * Transformation beyond Super Saiyan God with blue hair and aura\n",
              ">  *  * *Ultra Instinct: * * Advanced state of combat where movements are instinctual\n",
              "> \n",
              ">  * *Techniques: * *\n",
              "> \n",
              ">  *  * *Kaio-ken: * * Multiplies Goku's power but drains his stamina\n",
              ">  *  * *Spirit Bomb: * * Massive energy ball gathered from living beings\n",
              ">  *  * *Solar Flare: * * Blinding light attack\n",
              ">  *  * *Destructo Disc: * * Disc-shaped energy blade\n",
              ">  *  * *Dragon Fist: * * Powerful punching technique\n",
              "> \n",
              ">  * *History: * *\n",
              "> \n",
              ">  * Born on Planet Vegeta as Kakarot, a low-level Saiyan warrior\n",
              ">  * Sent to Earth as a baby to conquer the planet\n",
              ">  * Raised by Grandpa Gohan, who taught him kindness and compassion\n",
              ">  * Became the Earth's protector and fought against numerous threats\n",
              ">  * Trained under Master Roshi, King Kai, and Whis\n",
              ">  * Married Chi-Chi and had two sons, Gohan and Goten\n",
              "> \n",
              ">  * *Notable Achievements: * *\n",
              "> \n",
              ">  * Defeated Frieza, Cell, Majin Buu, and other powerful villains\n",
              ">  * Saved the Earth and other planets from destruction\n",
              ">  * Became the strongest warrior in the universe (as of Dragon Ball Super)"
            ],
            "text/plain": [
              "<IPython.core.display.Markdown object>"
            ]
          },
          "metadata": {},
          "output_type": "display_data"
        },
        {
          "name": "stdout",
          "output_type": "stream",
          "text": [
            "----------------------------------------\n"
          ]
        }
      ],
      "source": [
        "import textwrap\n",
        "from IPython.display import display\n",
        "from IPython.display import Markdown\n",
        "\n",
        "def to_markdown(text):\n",
        "  text = text.replace('*',' *')\n",
        "  return Markdown(textwrap.indent(text, '> ', predicate=lambda _: True))\n",
        "\n",
        "#Imprimindo o histórico\n",
        "for message in chat.history:\n",
        "  display(to_markdown(f'**{message.role}**: {message.parts[0].text}'))\n",
        "print('----------------------------------------')"
      ]
    }
  ],
  "metadata": {
    "colab": {
      "provenance": []
    },
    "kernelspec": {
      "display_name": "Python 3",
      "name": "python3"
    },
    "language_info": {
      "codemirror_mode": {
        "name": "ipython",
        "version": 3
      },
      "file_extension": ".py",
      "mimetype": "text/x-python",
      "name": "python",
      "nbconvert_exporter": "python",
      "pygments_lexer": "ipython3",
      "version": "3.10.12"
    }
  },
  "nbformat": 4,
  "nbformat_minor": 0
}
